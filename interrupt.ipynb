{
 "cells": [
  {
   "cell_type": "code",
   "execution_count": 5,
   "metadata": {},
   "outputs": [
    {
     "name": "stdout",
     "output_type": "stream",
     "text": [
      "Iniciando programa. N para interrumpir.\n",
      "Tarea #1: Clave Solicitada: 817311\n",
      "Tarea #2: Clave Solicitada: 638668\n",
      "Tarea #3: Clave Solicitada: 19219\n",
      "Tarea #4: Clave Solicitada: 632084\n",
      "Tarea #5: Clave Solicitada: 529426\n",
      "Tarea #6: Clave Solicitada: 791158\n",
      "Tarea #7: Clave Solicitada: 765805\n",
      "Tarea #8: Clave Solicitada: 109013\n",
      "Tarea #9: Clave Solicitada: 137411\n",
      "\n",
      "Señal SIGINT recibida (Interrupción de usuario).\n",
      "Finalizando tareas antes de salir...\n",
      "Limpiando recursos...\n",
      "Total de tareas realizadas: 9\n",
      "Programa finalizado correctamente.\n",
      "Limpiando recursos...\n",
      "Total de tareas realizadas: 9\n"
     ]
    }
   ],
   "source": [
    "import random\n",
    "import time\n",
    "import signal\n",
    "import keyboard\n",
    "\n",
    "running = True\n",
    "task_count = 0\n",
    "\n",
    "def signal_handler(signum, frame):\n",
    "    global running\n",
    "    print('\\nSeñal SIGINT recibida (Interrupción de usuario).')\n",
    "    print('Finalizando tareas antes de salir...')\n",
    "    clean_up()\n",
    "    print('Programa finalizado correctamente.')\n",
    "    running = False\n",
    "\n",
    "signal.signal(signal.SIGINT, signal_handler)\n",
    "\n",
    "def perform_task():\n",
    "    global task_count\n",
    "    task_count += 1\n",
    "    random_number = random.randint(000000, 999999)\n",
    "    print(f'Tarea #{task_count}: Clave Solicitada: {random_number}')\n",
    "\n",
    "def clean_up():\n",
    "    print('Limpiando recursos...')\n",
    "    print(f'Total de tareas realizadas: {task_count}')\n",
    "\n",
    "print('Iniciando programa. N para interrumpir.')\n",
    "\n",
    "while running:\n",
    "    perform_task()\n",
    "    \n",
    "    if keyboard.is_pressed('space'): \n",
    "        print('Finalizando programa bajo solicitud del usuario...')\n",
    "        running = False\n",
    "    time.sleep(2)\n",
    "    \n",
    "clean_up() "
   ]
  },
  {
   "cell_type": "code",
   "execution_count": null,
   "metadata": {},
   "outputs": [],
   "source": []
  }
 ],
 "metadata": {
  "kernelspec": {
   "display_name": "Python 3",
   "language": "python",
   "name": "python3"
  },
  "language_info": {
   "codemirror_mode": {
    "name": "ipython",
    "version": 3
   },
   "file_extension": ".py",
   "mimetype": "text/x-python",
   "name": "python",
   "nbconvert_exporter": "python",
   "pygments_lexer": "ipython3",
   "version": "3.11.9"
  }
 },
 "nbformat": 4,
 "nbformat_minor": 2
}
